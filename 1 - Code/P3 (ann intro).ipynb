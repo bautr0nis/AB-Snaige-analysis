{
 "cells": [
  {
   "cell_type": "code",
   "execution_count": 2,
   "id": "cf2c3f45",
   "metadata": {},
   "outputs": [],
   "source": [
    "import tensorflow as tf"
   ]
  },
  {
   "cell_type": "code",
   "execution_count": 3,
   "id": "3e8b05cd",
   "metadata": {},
   "outputs": [
    {
     "data": {
      "text/plain": [
       "<tf.Tensor: shape=(), dtype=float32, numpy=3.0>"
      ]
     },
     "execution_count": 3,
     "metadata": {},
     "output_type": "execute_result"
    }
   ],
   "source": [
    "a = tf.constant(3, tf.float32)\n",
    "a"
   ]
  },
  {
   "cell_type": "code",
   "execution_count": 6,
   "id": "1230b064",
   "metadata": {},
   "outputs": [
    {
     "data": {
      "text/plain": [
       "numpy.float32"
      ]
     },
     "execution_count": 6,
     "metadata": {},
     "output_type": "execute_result"
    }
   ],
   "source": [
    "type(a.numpy())"
   ]
  },
  {
   "cell_type": "markdown",
   "id": "f386a86f",
   "metadata": {},
   "source": [
    "## ANN pvz (minimalus)"
   ]
  },
  {
   "cell_type": "code",
   "execution_count": 7,
   "id": "957153b0",
   "metadata": {},
   "outputs": [],
   "source": [
    "x = tf.constant([[4, 5]], tf.float32)"
   ]
  },
  {
   "cell_type": "markdown",
   "id": "4e2c6ff1",
   "metadata": {},
   "source": [
    "### Visiškai nuo 0"
   ]
  },
  {
   "cell_type": "code",
   "execution_count": 15,
   "id": "22f5ab8a",
   "metadata": {},
   "outputs": [
    {
     "data": {
      "text/plain": [
       "<tf.Tensor: shape=(), dtype=float32, numpy=0.45175347>"
      ]
     },
     "execution_count": 15,
     "metadata": {},
     "output_type": "execute_result"
    }
   ],
   "source": [
    "W1 = tf.Variable(tf.random.truncated_normal([3, 2], stddev=0.1, seed=1))\n",
    "b1 = tf.Variable(tf.random.truncated_normal([1, 2], stddev=0.1, seed=2))\n",
    "h1 = tf.sigmoid(tf.matmul(W1, tf.transpose(x))+b1)\n",
    "o = tf.reduce_mean(h1)\n",
    "o"
   ]
  },
  {
   "cell_type": "markdown",
   "id": "4bf3dc39",
   "metadata": {},
   "source": [
    "### Naudojant sluoksnių ruošinius"
   ]
  },
  {
   "cell_type": "code",
   "execution_count": null,
   "id": "756c7b3e",
   "metadata": {},
   "outputs": [],
   "source": [
    "layer1 = tf.keras.layers.Dense(3, activation=tf.nn.sigmoid)\n",
    "layer2 = tf.keras.layers.Average()\n",
    "h1 = layer2(layer1(x))\n",
    "h1"
   ]
  },
  {
   "cell_type": "code",
   "execution_count": 33,
   "id": "d805c4ec",
   "metadata": {},
   "outputs": [
    {
     "data": {
      "text/plain": [
       "<tf.Tensor: shape=(1, 1), dtype=float32, numpy=array([[-0.63791335]], dtype=float32)>"
      ]
     },
     "execution_count": 33,
     "metadata": {},
     "output_type": "execute_result"
    }
   ],
   "source": [
    "layer1 = tf.keras.layers.Dense(3, activation=tf.nn.sigmoid)\n",
    "layer2 = tf.keras.layers.Dense(15, activation=tf.nn.sigmoid)\n",
    "layer3 = tf.keras.layers.Dense(1, activation=tf.nn.tanh)\n",
    "#layer2 = tf.keras.layers.Average()\n",
    "model = tf.keras.Sequential([layer1, layer2, layer3])\n",
    "model(x)"
   ]
  },
  {
   "cell_type": "code",
   "execution_count": 34,
   "id": "555e1dc4",
   "metadata": {},
   "outputs": [
    {
     "name": "stdout",
     "output_type": "stream",
     "text": [
      "Model: \"sequential_4\"\n",
      "_________________________________________________________________\n",
      " Layer (type)                Output Shape              Param #   \n",
      "=================================================================\n",
      " dense_18 (Dense)            (1, 3)                    9         \n",
      "                                                                 \n",
      " dense_19 (Dense)            (1, 15)                   60        \n",
      "                                                                 \n",
      " dense_20 (Dense)            (1, 1)                    16        \n",
      "                                                                 \n",
      "=================================================================\n",
      "Total params: 85\n",
      "Trainable params: 85\n",
      "Non-trainable params: 0\n",
      "_________________________________________________________________\n"
     ]
    }
   ],
   "source": [
    "model.summary()"
   ]
  },
  {
   "cell_type": "code",
   "execution_count": null,
   "id": "2196f8a0",
   "metadata": {},
   "outputs": [],
   "source": []
  },
  {
   "cell_type": "code",
   "execution_count": null,
   "id": "e6c0528b",
   "metadata": {},
   "outputs": [],
   "source": []
  },
  {
   "cell_type": "code",
   "execution_count": null,
   "id": "b818c96c",
   "metadata": {},
   "outputs": [],
   "source": []
  }
 ],
 "metadata": {
  "kernelspec": {
   "display_name": "Python 3 (ipykernel)",
   "language": "python",
   "name": "python3"
  },
  "language_info": {
   "codemirror_mode": {
    "name": "ipython",
    "version": 3
   },
   "file_extension": ".py",
   "mimetype": "text/x-python",
   "name": "python",
   "nbconvert_exporter": "python",
   "pygments_lexer": "ipython3",
   "version": "3.11.6"
  }
 },
 "nbformat": 4,
 "nbformat_minor": 5
}
